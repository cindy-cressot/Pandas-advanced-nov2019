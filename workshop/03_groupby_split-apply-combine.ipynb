{
 "cells": [
  {
   "cell_type": "markdown",
   "metadata": {},
   "source": [
    "# Group By: split-apply-combine"
   ]
  },
  {
   "cell_type": "markdown",
   "metadata": {},
   "source": [
    "In this notebook we will cover:\n",
    "* Splitting the data into groups based on some criteria.\n",
    "* Applying a function to each group independently.\n",
    "* Combining the results into a data structure.\n",
    "\n",
    "If you like you can read some more here: https://pandas.pydata.org/pandas-docs/stable/user_guide/groupby.html"
   ]
  },
  {
   "cell_type": "code",
   "execution_count": null,
   "metadata": {},
   "outputs": [],
   "source": [
    "### Steps for use with colab\n",
    "# First step to mount your Google Drive\n",
    "from google.colab import drive\n",
    "drive.mount('/content/drive')\n",
    "%cd /content/drive/My\\ Drive\n",
    "# Clone Pyladies repo \n",
    "#! git clone --recursive https://github.com/pyladiesams/Pandas-advanced-nov2019.git\n",
    "# Install requirements\n",
    "! pip install pandas==0.25.3\n",
    "import pandas as pd\n",
    "# Move into repo\n",
    "%cd /content/drive/My\\ Drive/Pandas-advanced-nov2019/workshop/"
   ]
  },
  {
   "cell_type": "markdown",
   "metadata": {},
   "source": [
    "# 0. Load data"
   ]
  },
  {
   "cell_type": "code",
   "execution_count": 1,
   "metadata": {},
   "outputs": [],
   "source": [
    "import pandas as pd\n",
    "\n",
    "%matplotlib inline"
   ]
  },
  {
   "cell_type": "code",
   "execution_count": 3,
   "metadata": {},
   "outputs": [],
   "source": [
    "airquality = pd.read_csv(\"./data/airquality.csv\", delimiter=\";\", decimal=\",\")\n",
    "\n",
    "# rename columns from Dutch to English\n",
    "airquality.columns = [\"time\", \"location\", \"component\", \"value\", \"airquality_index\"]"
   ]
  },
  {
   "cell_type": "markdown",
   "metadata": {},
   "source": [
    "# 1. Group by"
   ]
  },
  {
   "cell_type": "code",
   "execution_count": 5,
   "metadata": {},
   "outputs": [
    {
     "name": "stdout",
     "output_type": "stream",
     "text": [
      "<pandas.core.groupby.generic.DataFrameGroupBy object at 0x1137026d0>\n"
     ]
    }
   ],
   "source": [
    "# Group the data based on 'component'\n",
    "grouped = airquality.groupby(\"component\")\n",
    "print(grouped)"
   ]
  },
  {
   "cell_type": "markdown",
   "metadata": {},
   "source": [
    "Nothing special we've done here, the definition of grouping is just to provide a mapping of labels to group names.\n",
    "\n",
    "The groups attribute is a dict whose keys are the computed unique groups and corresponding values being the axis labels belonging to each group.\n",
    "\n",
    "\n",
    "PS: grouping automatically sorts the groups"
   ]
  },
  {
   "cell_type": "code",
   "execution_count": 6,
   "metadata": {},
   "outputs": [],
   "source": [
    "print(grouped.groups)"
   ]
  },
  {
   "cell_type": "code",
   "execution_count": 5,
   "metadata": {},
   "outputs": [],
   "source": [
    "# Choose a group and print the first 3 rows (use .get_group)\n",
    "\n",
    "## your code here"
   ]
  },
  {
   "cell_type": "code",
   "execution_count": 4,
   "metadata": {},
   "outputs": [],
   "source": [
    "# Print each name and group in a for loop\n",
    "\n",
    "## your code here"
   ]
  },
  {
   "cell_type": "code",
   "execution_count": 7,
   "metadata": {},
   "outputs": [],
   "source": [
    "# Group the dataframe by component and airquality index and print the rows related to\n",
    "# group \"PM10\" and index 11\n",
    "\n",
    "## your code here"
   ]
  },
  {
   "cell_type": "markdown",
   "metadata": {},
   "source": [
    "# 2. Apply step"
   ]
  },
  {
   "cell_type": "markdown",
   "metadata": {},
   "source": [
    "There are many things you can do with the group objects we've created, some examples are\n",
    "* Standard aggregations such as `.sum()` and `.mean()`\n",
    "* More special aggregations using `.agg()`\n",
    "* Any other transformations using your own defined functions\n",
    "\n",
    "Another useful function you can call on a group is `.describe()`"
   ]
  },
  {
   "cell_type": "code",
   "execution_count": 8,
   "metadata": {},
   "outputs": [],
   "source": [
    "# try using .describe() on the groups you get when you group by component\n",
    "\n",
    "## your code here"
   ]
  },
  {
   "cell_type": "code",
   "execution_count": 9,
   "metadata": {},
   "outputs": [],
   "source": [
    "# Calculate the mean airquality_index of each component\n",
    "\n",
    "## your code here"
   ]
  },
  {
   "cell_type": "code",
   "execution_count": 10,
   "metadata": {},
   "outputs": [],
   "source": [
    "# try to get the mean as well as the total sum of the value of each component\n",
    "\n",
    "## your code here"
   ]
  },
  {
   "cell_type": "code",
   "execution_count": 11,
   "metadata": {},
   "outputs": [],
   "source": [
    "# It is also possible to apply the aggregation specific for certain columns\n",
    "# Can you try to get the sum of the value, and the mean of the airquality_index per\n",
    "# component?\n",
    "\n",
    "\n",
    "## your code here"
   ]
  },
  {
   "cell_type": "markdown",
   "metadata": {},
   "source": [
    "You can also apply your own custom functions to groups, using `apply`. You can do this using `lambda` or a custom defined function."
   ]
  },
  {
   "cell_type": "code",
   "execution_count": 12,
   "metadata": {},
   "outputs": [],
   "source": [
    "# Try to get the max - min value of each component using a lambda function\n",
    "airquality.groupby(\"component\").value.apply(lambda group:  ## your code here )"
   ]
  },
  {
   "cell_type": "code",
   "execution_count": 13,
   "metadata": {},
   "outputs": [],
   "source": [
    "# Try to do the same but with a custom function\n",
    "def max_min(group):\n",
    "    return ## your code here\n",
    "\n",
    "airquality.groupby(\"component\").value.apply(## your code here)"
   ]
  },
  {
   "cell_type": "markdown",
   "metadata": {},
   "source": [
    "Try to group the data per component and airquality_index and calculate the count of observations (hint: `size()` ). Then turn the result into a dataframe."
   ]
  },
  {
   "cell_type": "code",
   "execution_count": 14,
   "metadata": {},
   "outputs": [],
   "source": [
    "## your code here"
   ]
  },
  {
   "cell_type": "markdown",
   "metadata": {},
   "source": [
    "This format isn't great, try to create a dataframe with a column for each airquality_index and the count a values in the cells."
   ]
  },
  {
   "cell_type": "code",
   "execution_count": 15,
   "metadata": {},
   "outputs": [],
   "source": [
    "## your code here"
   ]
  },
  {
   "cell_type": "markdown",
   "metadata": {},
   "source": [
    "# 3. Transformations"
   ]
  },
  {
   "cell_type": "markdown",
   "metadata": {},
   "source": [
    "So far we've using functions on the groups, usually returning one value per group. The `transform` method returns an object that is indexed the same (so the same size) as the one being grouped."
   ]
  },
  {
   "cell_type": "markdown",
   "metadata": {},
   "source": [
    "Let's start with a small example. Write a function which returns the difference between a column's value and the mean of the column. Then use `transform` to apply the function to each group of component. "
   ]
  },
  {
   "cell_type": "code",
   "execution_count": 16,
   "metadata": {},
   "outputs": [],
   "source": [
    "def diff_mean(x):\n",
    "    return ## your code here"
   ]
  },
  {
   "cell_type": "code",
   "execution_count": 17,
   "metadata": {},
   "outputs": [],
   "source": [
    "transformed = airquality.groupby(\"component\").transform(lambda x: diff_mean(x))\n",
    "print(f\"Original df shape: {airquality.shape}, transformed df shape: {transformed.shape}\")\n",
    "print(transformed.head())"
   ]
  },
  {
   "cell_type": "markdown",
   "metadata": {},
   "source": [
    "Let's add the new columns to our dataframe and look at the result."
   ]
  },
  {
   "cell_type": "code",
   "execution_count": 18,
   "metadata": {},
   "outputs": [],
   "source": [
    "airquality[[\"value_diff_mean\", \"airquality_index_diff_mean\"]] = transformed\n",
    "print(airquality.head())"
   ]
  },
  {
   "cell_type": "markdown",
   "metadata": {},
   "source": [
    "Another example where `transform` could be useful is when you want to standardize your data.\n",
    "\n",
    "In the next cell block, try to standardize the data by grouping per component and using the method of substracting by the mean and dividing by the standard deviation. Add the columns to the new df and assert that indeed the mean of the columns is zero and the standard deviation 1."
   ]
  },
  {
   "cell_type": "code",
   "execution_count": 64,
   "metadata": {},
   "outputs": [],
   "source": [
    "airquality = airquality.drop([\"value_diff_mean\", \"airquality_index_diff_mean\"],axis=1)"
   ]
  },
  {
   "cell_type": "code",
   "execution_count": 66,
   "metadata": {},
   "outputs": [],
   "source": [
    "def standardize(x):\n",
    "    return ## your code here"
   ]
  },
  {
   "cell_type": "code",
   "execution_count": 68,
   "metadata": {},
   "outputs": [],
   "source": [
    "airquality[[\"value_standardized\", \"airquality_index_standardized\"]] = \\\n",
    "    ## your code here"
   ]
  },
  {
   "cell_type": "code",
   "execution_count": 19,
   "metadata": {},
   "outputs": [],
   "source": [
    "# Assert that the columns are correct\n",
    "print(airquality.value_standardized.mean())\n",
    "print(airquality.value_standardized.std())\n",
    "print(airquality.airquality_index_standardized.mean())\n",
    "print(airquality.airquality_index_standardized.std())"
   ]
  },
  {
   "cell_type": "markdown",
   "metadata": {},
   "source": [
    "Another useful application of `transform` is when you have missing values.\n",
    "If you like, you can corrupt the value column of the data using the code below by adding random missing values to it (with a 10 percent chance), and then try to impute them for example with the average per group."
   ]
  },
  {
   "cell_type": "code",
   "execution_count": 82,
   "metadata": {},
   "outputs": [],
   "source": [
    "import numpy as np\n",
    "airquality[\"value_with_nan\"] = \\\n",
    "    airquality.value.mask(np.random.random(airquality.shape[0]) < .1)"
   ]
  },
  {
   "cell_type": "code",
   "execution_count": 20,
   "metadata": {},
   "outputs": [],
   "source": [
    "# print(airquality.isnull().sum())"
   ]
  },
  {
   "cell_type": "code",
   "execution_count": 21,
   "metadata": {},
   "outputs": [],
   "source": [
    "## your code here"
   ]
  },
  {
   "cell_type": "code",
   "execution_count": null,
   "metadata": {},
   "outputs": [],
   "source": []
  }
 ],
 "metadata": {
  "kernelspec": {
   "display_name": "Python 3",
   "language": "python",
   "name": "python3"
  },
  "language_info": {
   "codemirror_mode": {
    "name": "ipython",
    "version": 3
   },
   "file_extension": ".py",
   "mimetype": "text/x-python",
   "name": "python",
   "nbconvert_exporter": "python",
   "pygments_lexer": "ipython3",
   "version": "3.7.4"
  }
 },
 "nbformat": 4,
 "nbformat_minor": 4
}
